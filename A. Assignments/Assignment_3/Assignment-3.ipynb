{
  "nbformat": 4,
  "nbformat_minor": 0,
  "metadata": {
    "colab": {
      "provenance": [],
      "gpuType": "T4"
    },
    "kernelspec": {
      "name": "python3",
      "display_name": "Python 3"
    },
    "language_info": {
      "name": "python"
    },
    "accelerator": "GPU"
  },
  "cells": [
    {
      "cell_type": "code",
      "execution_count": null,
      "metadata": {
        "colab": {
          "base_uri": "https://localhost:8080/"
        },
        "id": "WchxqB7Isbgb",
        "outputId": "0856d4e2-8a2f-4a03-cdbd-227f2f007c94"
      },
      "outputs": [
        {
          "output_type": "stream",
          "name": "stdout",
          "text": [
            "Mounted at /content/drive\n"
          ]
        }
      ],
      "source": [
        "from google.colab import drive\n",
        "drive.mount('/content/drive')"
      ]
    },
    {
      "cell_type": "code",
      "source": [
        "import tensorflow\n",
        "import keras"
      ],
      "metadata": {
        "id": "RK1kp5qu2Gu0"
      },
      "execution_count": null,
      "outputs": []
    },
    {
      "cell_type": "markdown",
      "source": [
        "DATA AUGMENTATION"
      ],
      "metadata": {
        "id": "2Lf7S7A7omya"
      }
    },
    {
      "cell_type": "code",
      "source": [
        "from tensorflow.keras.preprocessing.image import ImageDataGenerator"
      ],
      "metadata": {
        "id": "19_CXN69tnrM"
      },
      "execution_count": null,
      "outputs": []
    },
    {
      "cell_type": "code",
      "source": [
        "train_gen=ImageDataGenerator(rescale=(1./255),horizontal_flip=True,shear_range=0.6)\n",
        "test_gen=ImageDataGenerator(rescale=(1./255))"
      ],
      "metadata": {
        "id": "3BoYb0we2EHa"
      },
      "execution_count": null,
      "outputs": []
    },
    {
      "cell_type": "code",
      "source": [
        "train=train_gen.flow_from_directory('/content/drive/My Drive/Colab Notebooks/SmartBridgeAI/birds-species-classification/train_data/train_data',\n",
        "                                    target_size=(120,120),\n",
        "                                    class_mode= 'categorical',\n",
        "                                    batch_size=8)\n",
        "test=test_gen.flow_from_directory('/content/drive/My Drive/Colab Notebooks/SmartBridgeAI/birds-species-classification/test_data/test_data',\n",
        "                                    target_size=(120,120),\n",
        "                                    class_mode= 'categorical',\n",
        "                                    batch_size=8)"
      ],
      "metadata": {
        "colab": {
          "base_uri": "https://localhost:8080/"
        },
        "id": "6F99TZns3d9w",
        "outputId": "c4245390-575b-4051-86e9-0884f99355cc"
      },
      "execution_count": null,
      "outputs": [
        {
          "output_type": "stream",
          "name": "stdout",
          "text": [
            "Found 150 images belonging to 16 classes.\n",
            "Found 157 images belonging to 16 classes.\n"
          ]
        }
      ]
    },
    {
      "cell_type": "code",
      "source": [
        "train.class_indices"
      ],
      "metadata": {
        "colab": {
          "base_uri": "https://localhost:8080/"
        },
        "id": "1O8fnoO6EMie",
        "outputId": "930a5343-188e-4b3b-e1bd-6bc37ac88e09"
      },
      "execution_count": null,
      "outputs": [
        {
          "output_type": "execute_result",
          "data": {
            "text/plain": [
              "{'blasti': 0,\n",
              " 'bonegl': 1,\n",
              " 'brhkyt': 2,\n",
              " 'cbrtsh': 3,\n",
              " 'cmnmyn': 4,\n",
              " 'gretit': 5,\n",
              " 'hilpig': 6,\n",
              " 'himbul': 7,\n",
              " 'himgri': 8,\n",
              " 'hsparo': 9,\n",
              " 'indvul': 10,\n",
              " 'jglowl': 11,\n",
              " 'lbicrw': 12,\n",
              " 'mgprob': 13,\n",
              " 'rebimg': 14,\n",
              " 'wcrsrt': 15}"
            ]
          },
          "metadata": {},
          "execution_count": 6
        }
      ]
    },
    {
      "cell_type": "code",
      "source": [
        "from tensorflow.keras.layers import Convolution2D,MaxPooling2D,Flatten,Dense\n",
        "from tensorflow.keras.models import Sequential"
      ],
      "metadata": {
        "id": "4ssLDU0m42_p"
      },
      "execution_count": null,
      "outputs": []
    },
    {
      "cell_type": "code",
      "source": [
        "model=Sequential()\n",
        "model.add(Convolution2D(40,(3,3),activation='relu',input_shape=(120,120,3)))\n",
        "model.add(MaxPooling2D(pool_size=(2,2)))\n",
        "model.add(Flatten())\n",
        "model.add(Dense(45,activation='relu'))\n",
        "model.add(Dense(16,activation='softmax'))"
      ],
      "metadata": {
        "id": "RaXebTof6q49"
      },
      "execution_count": null,
      "outputs": []
    },
    {
      "cell_type": "code",
      "source": [
        "model.compile(optimizer='adam',loss='categorical_crossentropy',metrics=['accuracy'])"
      ],
      "metadata": {
        "id": "JTgYTB2H8UFi"
      },
      "execution_count": null,
      "outputs": []
    },
    {
      "cell_type": "code",
      "source": [
        "model.fit(train,batch_size=32,validation_data=test,epochs=10)"
      ],
      "metadata": {
        "colab": {
          "base_uri": "https://localhost:8080/"
        },
        "id": "wm-ha7xR9xbz",
        "outputId": "9b75ba8b-38d1-4766-e18a-b8d6d11ee0ba"
      },
      "execution_count": null,
      "outputs": [
        {
          "output_type": "stream",
          "name": "stdout",
          "text": [
            "Epoch 1/10\n",
            "19/19 [==============================] - 207s 11s/step - loss: 4.7915 - accuracy: 0.1200 - val_loss: 2.8352 - val_accuracy: 0.1210\n",
            "Epoch 2/10\n",
            "19/19 [==============================] - 88s 5s/step - loss: 2.3939 - accuracy: 0.2600 - val_loss: 2.7654 - val_accuracy: 0.1592\n",
            "Epoch 3/10\n",
            "19/19 [==============================] - 121s 7s/step - loss: 2.1566 - accuracy: 0.3733 - val_loss: 2.7441 - val_accuracy: 0.2548\n",
            "Epoch 4/10\n",
            "19/19 [==============================] - 88s 5s/step - loss: 1.8466 - accuracy: 0.4600 - val_loss: 3.0225 - val_accuracy: 0.2166\n",
            "Epoch 5/10\n",
            "19/19 [==============================] - 88s 5s/step - loss: 1.7300 - accuracy: 0.4733 - val_loss: 2.8435 - val_accuracy: 0.1656\n",
            "Epoch 6/10\n",
            "19/19 [==============================] - 90s 5s/step - loss: 1.4554 - accuracy: 0.5667 - val_loss: 2.7964 - val_accuracy: 0.1911\n",
            "Epoch 7/10\n",
            "19/19 [==============================] - 91s 5s/step - loss: 1.2086 - accuracy: 0.6200 - val_loss: 2.8252 - val_accuracy: 0.1847\n",
            "Epoch 8/10\n",
            "19/19 [==============================] - 89s 5s/step - loss: 0.8849 - accuracy: 0.7933 - val_loss: 3.2947 - val_accuracy: 0.1529\n",
            "Epoch 9/10\n",
            "19/19 [==============================] - 120s 7s/step - loss: 0.7423 - accuracy: 0.8467 - val_loss: 3.1507 - val_accuracy: 0.2102\n",
            "Epoch 10/10\n",
            "19/19 [==============================] - 121s 7s/step - loss: 0.6249 - accuracy: 0.8400 - val_loss: 3.1696 - val_accuracy: 0.2357\n"
          ]
        },
        {
          "output_type": "execute_result",
          "data": {
            "text/plain": [
              "<keras.callbacks.History at 0x7f3918307d00>"
            ]
          },
          "metadata": {},
          "execution_count": 11
        }
      ]
    },
    {
      "cell_type": "code",
      "source": [
        "model.save('BirdsspeciesWeights.h5')"
      ],
      "metadata": {
        "id": "oBpMfGc59ysj"
      },
      "execution_count": null,
      "outputs": []
    },
    {
      "cell_type": "code",
      "source": [
        "import numpy as np\n",
        "from tensorflow.keras.preprocessing import image"
      ],
      "metadata": {
        "id": "92MqE-vTAgfl"
      },
      "execution_count": null,
      "outputs": []
    },
    {
      "cell_type": "code",
      "source": [
        "img1=image.load_img('/content/drive/My Drive/Colab Notebooks/SmartBridgeAI/birds-species-classification/Images to be tested/jglowl.jpg',target_size=(120,120))"
      ],
      "metadata": {
        "id": "cK2-pS7YWKsY"
      },
      "execution_count": null,
      "outputs": []
    },
    {
      "cell_type": "code",
      "source": [
        "img1=image.img_to_array(img1)\n",
        "img1=np.expand_dims(img1,axis=0)\n",
        "pred=np.argmax(model.predict(img1))\n",
        "output=['blasti',\n",
        " 'bonegl',\n",
        " 'brhkyt',\n",
        " 'cbrtsh',\n",
        " 'cmnmyn',\n",
        " 'gretit',\n",
        " 'hilpig',\n",
        " 'himbul',\n",
        " 'himgri',\n",
        " 'hsparo',\n",
        " 'indvul',\n",
        " 'jglowl',\n",
        " 'lbicrw',\n",
        " 'mgprob',\n",
        " 'rebimg',\n",
        " 'wcrsrt']\n",
        "print(output[pred])"
      ],
      "metadata": {
        "colab": {
          "base_uri": "https://localhost:8080/"
        },
        "id": "5bhOicOSWGpk",
        "outputId": "f10b747d-0ed6-4e7b-a022-ac51252b9324"
      },
      "execution_count": null,
      "outputs": [
        {
          "output_type": "stream",
          "name": "stdout",
          "text": [
            "1/1 [==============================] - 0s 175ms/step\n",
            "hsparo\n"
          ]
        }
      ]
    },
    {
      "cell_type": "code",
      "source": [
        "img=image.load_img('/content/drive/My Drive/Colab Notebooks/SmartBridgeAI/birds-species-classification/Images to be tested/Blasti.jpg',target_size=(120,120))"
      ],
      "metadata": {
        "id": "kNMVKuGUvmc2"
      },
      "execution_count": null,
      "outputs": []
    },
    {
      "cell_type": "code",
      "source": [
        "img"
      ],
      "metadata": {
        "colab": {
          "base_uri": "https://localhost:8080/",
          "height": 137
        },
        "id": "E_eEclK5vl3q",
        "outputId": "d2b3dae6-2e27-4f21-c2cb-c9966dee52c4"
      },
      "execution_count": null,
      "outputs": [
        {
          "output_type": "execute_result",
          "data": {
            "text/plain": [
              "<PIL.Image.Image image mode=RGB size=120x120 at 0x7F3918BDA470>"
            ],
            "image/png": "[encoded data removed]"
          },
          "metadata": {},
          "execution_count": 17
        }
      ]
    },
    {
      "cell_type": "code",
      "source": [
        "img=image.img_to_array(img)\n",
        "img=np.expand_dims(img,axis=0)\n",
        "pred=np.argmax(model.predict(img))\n",
        "output=['blasti',\n",
        " 'bonegl',\n",
        " 'brhkyt',\n",
        " 'cbrtsh',\n",
        " 'cmnmyn',\n",
        " 'gretit',\n",
        " 'hilpig',\n",
        " 'himbul',\n",
        " 'himgri',\n",
        " 'hsparo',\n",
        " 'indvul',\n",
        " 'jglowl',\n",
        " 'lbicrw',\n",
        " 'mgprob',\n",
        " 'rebimg',\n",
        " 'wcrsrt']\n",
        "print(output[pred])"
      ],
      "metadata": {
        "id": "EVmcWPyUAnaQ",
        "colab": {
          "base_uri": "https://localhost:8080/"
        },
        "outputId": "180ab01d-4bd8-421f-8086-7283cfd04ff9"
      },
      "execution_count": null,
      "outputs": [
        {
          "output_type": "stream",
          "name": "stdout",
          "text": [
            "1/1 [==============================] - 0s 18ms/step\n",
            "brhkyt\n"
          ]
        }
      ]
    },
    {
      "cell_type": "code",
      "source": [],
      "metadata": {
        "id": "ZP6FLVEBy-Uu"
      },
      "execution_count": null,
      "outputs": []
    },
    {
      "cell_type": "markdown",
      "source": [
        "Model is not accurate thats why its giving cmnmyn even though we given Blasti bird species\n"
      ],
      "metadata": {
        "id": "xuh70vEVyzZp"
      }
    },
    {
      "cell_type": "markdown",
      "source": [
        "Model Tuning(Adding feature extraction layers)"
      ],
      "metadata": {
        "id": "Fi742ivg6HbB"
      }
    },
    {
      "cell_type": "code",
      "source": [
        "model=Sequential()\n",
        "model.add(Convolution2D(48,(3,3),activation='relu',input_shape=(120,120,3)))\n",
        "model.add(MaxPooling2D(pool_size=(2,2)))\n",
        "model.add(Convolution2D(96,(3,3),activation='relu'))\n",
        "model.add(MaxPooling2D(pool_size=(2,2)))\n",
        "model.add(Convolution2D(136,(3,3),activation='relu'))\n",
        "model.add(MaxPooling2D(pool_size=(2,2)))\n",
        "model.add(Flatten())\n",
        "model.add(Dense(92,activation='relu'))\n",
        "model.add(Dense(64,activation='relu'))\n",
        "model.add(Dense(32,activation='relu'))\n",
        "model.add(Dense(16,activation='softmax'))"
      ],
      "metadata": {
        "id": "sCeHtACcGJ7y"
      },
      "execution_count": null,
      "outputs": []
    },
    {
      "cell_type": "code",
      "source": [
        "model.summary()\n"
      ],
      "metadata": {
        "colab": {
          "base_uri": "https://localhost:8080/"
        },
        "id": "T5izqFNu7vyh",
        "outputId": "507005d9-967d-4eef-c587-0ed3b8ffe8dc"
      },
      "execution_count": null,
      "outputs": [
        {
          "output_type": "stream",
          "name": "stdout",
          "text": [
            "Model: \"sequential_2\"\n",
            "_________________________________________________________________\n",
            " Layer (type)                Output Shape              Param #   \n",
            "=================================================================\n",
            " conv2d_2 (Conv2D)           (None, 118, 118, 48)      1344      \n",
            "                                                                 \n",
            " max_pooling2d_2 (MaxPooling  (None, 59, 59, 48)       0         \n",
            " 2D)                                                             \n",
            "                                                                 \n",
            " conv2d_3 (Conv2D)           (None, 57, 57, 96)        41568     \n",
            "                                                                 \n",
            " max_pooling2d_3 (MaxPooling  (None, 28, 28, 96)       0         \n",
            " 2D)                                                             \n",
            "                                                                 \n",
            " conv2d_4 (Conv2D)           (None, 26, 26, 136)       117640    \n",
            "                                                                 \n",
            " max_pooling2d_4 (MaxPooling  (None, 13, 13, 136)      0         \n",
            " 2D)                                                             \n",
            "                                                                 \n",
            " flatten_2 (Flatten)         (None, 22984)             0         \n",
            "                                                                 \n",
            " dense_4 (Dense)             (None, 92)                2114620   \n",
            "                                                                 \n",
            " dense_5 (Dense)             (None, 64)                5952      \n",
            "                                                                 \n",
            " dense_6 (Dense)             (None, 32)                2080      \n",
            "                                                                 \n",
            " dense_7 (Dense)             (None, 16)                528       \n",
            "                                                                 \n",
            "=================================================================\n",
            "Total params: 2,283,732\n",
            "Trainable params: 2,283,732\n",
            "Non-trainable params: 0\n",
            "_________________________________________________________________\n"
          ]
        }
      ]
    },
    {
      "cell_type": "code",
      "source": [
        "model.compile(optimizer='adam', loss='categorical_crossentropy', metrics=['accuracy'])"
      ],
      "metadata": {
        "id": "KCjYMaoG70ex"
      },
      "execution_count": null,
      "outputs": []
    },
    {
      "cell_type": "code",
      "source": [
        "model.fit(train,batch_size=32,validation_data=test,epochs=6)"
      ],
      "metadata": {
        "colab": {
          "base_uri": "https://localhost:8080/"
        },
        "id": "UZPU1BSv8Pwz",
        "outputId": "1b10a367-8fe1-4bd9-d990-5ff2ecff0067"
      },
      "execution_count": null,
      "outputs": [
        {
          "output_type": "stream",
          "name": "stdout",
          "text": [
            "Epoch 1/6\n",
            "19/19 [==============================] - 95s 5s/step - loss: 2.7694 - accuracy: 0.0867 - val_loss: 2.7400 - val_accuracy: 0.0892\n",
            "Epoch 2/6\n",
            "19/19 [==============================] - 90s 5s/step - loss: 2.6871 - accuracy: 0.1400 - val_loss: 2.7169 - val_accuracy: 0.1401\n",
            "Epoch 3/6\n",
            "19/19 [==============================] - 89s 5s/step - loss: 2.5409 - accuracy: 0.1933 - val_loss: 2.7980 - val_accuracy: 0.2166\n",
            "Epoch 4/6\n",
            "19/19 [==============================] - 89s 5s/step - loss: 2.3827 - accuracy: 0.2333 - val_loss: 2.7628 - val_accuracy: 0.1783\n",
            "Epoch 5/6\n",
            "19/19 [==============================] - 91s 5s/step - loss: 2.3077 - accuracy: 0.2867 - val_loss: 2.6988 - val_accuracy: 0.1911\n",
            "Epoch 6/6\n",
            "19/19 [==============================] - 90s 5s/step - loss: 2.1469 - accuracy: 0.3200 - val_loss: 2.9813 - val_accuracy: 0.1847\n"
          ]
        },
        {
          "output_type": "execute_result",
          "data": {
            "text/plain": [
              "<keras.callbacks.History at 0x7f387ae9e140>"
            ]
          },
          "metadata": {},
          "execution_count": 22
        }
      ]
    },
    {
      "cell_type": "code",
      "source": [
        "# img4=image.img_to_array(img4)\n",
        "# img4=np.expand_dims(img4,axis=0)\n",
        "pred=np.argmax(model.predict(img))\n",
        "output=['blasti',\n",
        " 'bonegl',\n",
        " 'brhkyt',\n",
        " 'cbrtsh',\n",
        " 'cmnmyn',\n",
        " 'gretit',\n",
        " 'hilpig',\n",
        " 'himbul',\n",
        " 'himgri',\n",
        " 'hsparo',\n",
        " 'indvul',\n",
        " 'jglowl',\n",
        " 'lbicrw',\n",
        " 'mgprob',\n",
        " 'rebimg',\n",
        " 'wcrsrt']\n",
        "print(output[pred])"
      ],
      "metadata": {
        "colab": {
          "base_uri": "https://localhost:8080/"
        },
        "id": "2DBvxwtt8aph",
        "outputId": "eaeb4645-0134-43d4-9004-a970010432af"
      },
      "execution_count": null,
      "outputs": [
        {
          "output_type": "stream",
          "name": "stdout",
          "text": [
            "1/1 [==============================] - 0s 213ms/step\n",
            "cbrtsh\n"
          ]
        }
      ]
    },
    {
      "cell_type": "code",
      "source": [
        "# img4=image.img_to_array(img4)\n",
        "# img4=np.expand_dims(img4,axis=0)\n",
        "pred=np.argmax(model.predict(img1))\n",
        "output=['blasti',\n",
        " 'bonegl',\n",
        " 'brhkyt',\n",
        " 'cbrtsh',\n",
        " 'cmnmyn',\n",
        " 'gretit',\n",
        " 'hilpig',\n",
        " 'himbul',\n",
        " 'himgri',\n",
        " 'hsparo',\n",
        " 'indvul',\n",
        " 'jglowl',\n",
        " 'lbicrw',\n",
        " 'mgprob',\n",
        " 'rebimg',\n",
        " 'wcrsrt']\n",
        "print(output[pred])"
      ],
      "metadata": {
        "colab": {
          "base_uri": "https://localhost:8080/"
        },
        "id": "-PkX7GInb7Sx",
        "outputId": "98197c29-978d-460f-fb13-6a290f495f60"
      },
      "execution_count": null,
      "outputs": [
        {
          "output_type": "stream",
          "name": "stdout",
          "text": [
            "1/1 [==============================] - 0s 29ms/step\n",
            "rebimg\n"
          ]
        }
      ]
    },
    {
      "cell_type": "markdown",
      "source": [
        "Model Tuning(with dropout,normalization &early stoping)"
      ],
      "metadata": {
        "id": "_FVntOpyB12-"
      }
    },
    {
      "cell_type": "code",
      "source": [
        "from tensorflow.keras.layers import BatchNormalization,Dropout"
      ],
      "metadata": {
        "id": "vOVF__CqCSm8"
      },
      "execution_count": null,
      "outputs": []
    },
    {
      "cell_type": "code",
      "source": [
        "model=Sequential()\n",
        "model.add(Convolution2D(48,(3,3),activation='relu',input_shape=(120,120,3)))\n",
        "model.add(BatchNormalization())\n",
        "model.add(MaxPooling2D(pool_size=(2,2)))\n",
        "model.add(Dropout(0.1))\n",
        "model.add(Convolution2D(96,(3,3),activation='relu'))\n",
        "model.add(BatchNormalization())\n",
        "model.add(MaxPooling2D(pool_size=(2,2)))\n",
        "model.add(Dropout(0.1))\n",
        "model.add(Convolution2D(136,(3,3),activation='relu'))\n",
        "model.add(BatchNormalization())\n",
        "model.add(MaxPooling2D(pool_size=(2,2)))\n",
        "model.add(Dropout(0.1))\n",
        "model.add(Flatten())\n",
        "model.add(Dense(92,activation='relu'))\n",
        "model.add(BatchNormalization())\n",
        "model.add(Dropout(0.1))\n",
        "model.add(Dense(64,activation='relu'))\n",
        "model.add(Dense(32,activation='relu'))\n",
        "model.add(Dense(16,activation='softmax'))"
      ],
      "metadata": {
        "id": "VJLBOAk5_YdB"
      },
      "execution_count": null,
      "outputs": []
    },
    {
      "cell_type": "code",
      "source": [
        "model.summary()"
      ],
      "metadata": {
        "colab": {
          "base_uri": "https://localhost:8080/"
        },
        "id": "UQAg6aoRDxgg",
        "outputId": "a7154bc2-8a09-4a6f-a99e-99a7e490dcaf"
      },
      "execution_count": null,
      "outputs": [
        {
          "output_type": "stream",
          "name": "stdout",
          "text": [
            "Model: \"sequential_3\"\n",
            "_________________________________________________________________\n",
            " Layer (type)                Output Shape              Param #   \n",
            "=================================================================\n",
            " conv2d_5 (Conv2D)           (None, 118, 118, 48)      1344      \n",
            "                                                                 \n",
            " batch_normalization (BatchN  (None, 118, 118, 48)     192       \n",
            " ormalization)                                                   \n",
            "                                                                 \n",
            " max_pooling2d_5 (MaxPooling  (None, 59, 59, 48)       0         \n",
            " 2D)                                                             \n",
            "                                                                 \n",
            " dropout (Dropout)           (None, 59, 59, 48)        0         \n",
            "                                                                 \n",
            " conv2d_6 (Conv2D)           (None, 57, 57, 96)        41568     \n",
            "                                                                 \n",
            " batch_normalization_1 (Batc  (None, 57, 57, 96)       384       \n",
            " hNormalization)                                                 \n",
            "                                                                 \n",
            " max_pooling2d_6 (MaxPooling  (None, 28, 28, 96)       0         \n",
            " 2D)                                                             \n",
            "                                                                 \n",
            " dropout_1 (Dropout)         (None, 28, 28, 96)        0         \n",
            "                                                                 \n",
            " conv2d_7 (Conv2D)           (None, 26, 26, 136)       117640    \n",
            "                                                                 \n",
            " batch_normalization_2 (Batc  (None, 26, 26, 136)      544       \n",
            " hNormalization)                                                 \n",
            "                                                                 \n",
            " max_pooling2d_7 (MaxPooling  (None, 13, 13, 136)      0         \n",
            " 2D)                                                             \n",
            "                                                                 \n",
            " dropout_2 (Dropout)         (None, 13, 13, 136)       0         \n",
            "                                                                 \n",
            " flatten_3 (Flatten)         (None, 22984)             0         \n",
            "                                                                 \n",
            " dense_8 (Dense)             (None, 92)                2114620   \n",
            "                                                                 \n",
            " batch_normalization_3 (Batc  (None, 92)               368       \n",
            " hNormalization)                                                 \n",
            "                                                                 \n",
            " dropout_3 (Dropout)         (None, 92)                0         \n",
            "                                                                 \n",
            " dense_9 (Dense)             (None, 64)                5952      \n",
            "                                                                 \n",
            " dense_10 (Dense)            (None, 32)                2080      \n",
            "                                                                 \n",
            " dense_11 (Dense)            (None, 16)                528       \n",
            "                                                                 \n",
            "=================================================================\n",
            "Total params: 2,285,220\n",
            "Trainable params: 2,284,476\n",
            "Non-trainable params: 744\n",
            "_________________________________________________________________\n"
          ]
        }
      ]
    },
    {
      "cell_type": "code",
      "source": [
        "model.compile(optimizer='adam', loss='categorical_crossentropy', metrics=['accuracy'])"
      ],
      "metadata": {
        "id": "aqCedg4nD2Wz"
      },
      "execution_count": null,
      "outputs": []
    },
    {
      "cell_type": "code",
      "source": [
        "from tensorflow.keras.callbacks import EarlyStopping"
      ],
      "metadata": {
        "id": "EyyjIkTaEsB1"
      },
      "execution_count": null,
      "outputs": []
    },
    {
      "cell_type": "code",
      "source": [
        "earlystop=EarlyStopping(monitor='val_accuracy',patience=4)"
      ],
      "metadata": {
        "id": "nwFLjHVaFKLB"
      },
      "execution_count": null,
      "outputs": []
    },
    {
      "cell_type": "code",
      "source": [
        "model.fit(train,batch_size=32,validation_data=test,epochs=25,callbacks=earlystop)"
      ],
      "metadata": {
        "colab": {
          "base_uri": "https://localhost:8080/"
        },
        "id": "GvrqPrXoEAsz",
        "outputId": "69fcc215-05ee-46f2-c297-f64e6dcf2f93"
      },
      "execution_count": null,
      "outputs": [
        {
          "output_type": "stream",
          "name": "stdout",
          "text": [
            "Epoch 1/25\n",
            "19/19 [==============================] - 96s 5s/step - loss: 2.6542 - accuracy: 0.1733 - val_loss: 2.8259 - val_accuracy: 0.0064\n",
            "Epoch 2/25\n",
            "19/19 [==============================] - 90s 5s/step - loss: 2.4667 - accuracy: 0.2800 - val_loss: 2.8891 - val_accuracy: 0.0573\n",
            "Epoch 3/25\n",
            "19/19 [==============================] - 121s 7s/step - loss: 2.2840 - accuracy: 0.2933 - val_loss: 2.9808 - val_accuracy: 0.0573\n",
            "Epoch 4/25\n",
            "19/19 [==============================] - 121s 7s/step - loss: 2.0925 - accuracy: 0.3667 - val_loss: 2.9695 - val_accuracy: 0.0701\n",
            "Epoch 5/25\n",
            "19/19 [==============================] - 89s 5s/step - loss: 1.9892 - accuracy: 0.4533 - val_loss: 3.0708 - val_accuracy: 0.0637\n",
            "Epoch 6/25\n",
            "19/19 [==============================] - 88s 5s/step - loss: 1.8373 - accuracy: 0.4600 - val_loss: 3.1915 - val_accuracy: 0.0573\n",
            "Epoch 7/25\n",
            "19/19 [==============================] - 120s 7s/step - loss: 1.8444 - accuracy: 0.4400 - val_loss: 3.0260 - val_accuracy: 0.1146\n",
            "Epoch 8/25\n",
            "19/19 [==============================] - 121s 7s/step - loss: 1.7234 - accuracy: 0.5000 - val_loss: 3.2794 - val_accuracy: 0.1083\n",
            "Epoch 9/25\n",
            "19/19 [==============================] - 88s 5s/step - loss: 1.6473 - accuracy: 0.5267 - val_loss: 3.2609 - val_accuracy: 0.1401\n",
            "Epoch 10/25\n",
            "19/19 [==============================] - 89s 5s/step - loss: 1.4988 - accuracy: 0.6067 - val_loss: 3.1350 - val_accuracy: 0.0828\n",
            "Epoch 11/25\n",
            "19/19 [==============================] - 91s 5s/step - loss: 1.3258 - accuracy: 0.5933 - val_loss: 3.1890 - val_accuracy: 0.1019\n",
            "Epoch 12/25\n",
            "19/19 [==============================] - 89s 5s/step - loss: 1.2310 - accuracy: 0.7000 - val_loss: 2.9931 - val_accuracy: 0.1338\n",
            "Epoch 13/25\n",
            "19/19 [==============================] - 87s 5s/step - loss: 1.3142 - accuracy: 0.6400 - val_loss: 3.7873 - val_accuracy: 0.0637\n"
          ]
        },
        {
          "output_type": "execute_result",
          "data": {
            "text/plain": [
              "<keras.callbacks.History at 0x7f38766d2a70>"
            ]
          },
          "metadata": {},
          "execution_count": 31
        }
      ]
    },
    {
      "cell_type": "code",
      "source": [
        "pred=np.argmax(model.predict(img))\n",
        "output=['blasti',\n",
        " 'bonegl',\n",
        " 'brhkyt',\n",
        " 'cbrtsh',\n",
        " 'cmnmyn',\n",
        " 'gretit',\n",
        " 'hilpig',\n",
        " 'himbul',\n",
        " 'himgri',\n",
        " 'hsparo',\n",
        " 'indvul',\n",
        " 'jglowl',\n",
        " 'lbicrw',\n",
        " 'mgprob',\n",
        " 'rebimg',\n",
        " 'wcrsrt']\n",
        "print(output[pred])"
      ],
      "metadata": {
        "colab": {
          "base_uri": "https://localhost:8080/"
        },
        "id": "AdMoIjCSEM-i",
        "outputId": "5865a2a4-0dcb-444f-bd8c-727ef2b41c4d"
      },
      "execution_count": null,
      "outputs": [
        {
          "output_type": "stream",
          "name": "stdout",
          "text": [
            "1/1 [==============================] - 0s 146ms/step\n",
            "rebimg\n"
          ]
        }
      ]
    },
    {
      "cell_type": "code",
      "source": [
        "# img1=image.img_to_array(img1)\n",
        "# img1=np.expand_dims(img1,axis=0)\n",
        "pred=np.argmax(model.predict(img1))\n",
        "output=['blasti',\n",
        " 'bonegl',\n",
        " 'brhkyt',\n",
        " 'cbrtsh',\n",
        " 'cmnmyn',\n",
        " 'gretit',\n",
        " 'hilpig',\n",
        " 'himbul',\n",
        " 'himgri',\n",
        " 'hsparo',\n",
        " 'indvul',\n",
        " 'jglowl',\n",
        " 'lbicrw',\n",
        " 'mgprob',\n",
        " 'rebimg',\n",
        " 'wcrsrt']\n",
        "print(output[pred])"
      ],
      "metadata": {
        "colab": {
          "base_uri": "https://localhost:8080/"
        },
        "id": "ae3OZyxR5fX6",
        "outputId": "edce2380-0ba0-4bda-c268-c3d1edaeff27"
      },
      "execution_count": null,
      "outputs": [
        {
          "output_type": "stream",
          "name": "stdout",
          "text": [
            "1/1 [==============================] - 0s 18ms/step\n",
            "rebimg\n"
          ]
        }
      ]
    },
    {
      "cell_type": "code",
      "source": [],
      "metadata": {
        "id": "09bjR13CIbLp"
      },
      "execution_count": null,
      "outputs": []
    }
  ]
}